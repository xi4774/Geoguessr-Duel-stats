{
  "nbformat": 4,
  "nbformat_minor": 0,
  "metadata": {
    "colab": {
      "provenance": []
    },
    "kernelspec": {
      "name": "python3",
      "display_name": "Python 3"
    },
    "language_info": {
      "name": "python"
    }
  },
  "cells": [
    {
      "cell_type": "markdown",
      "source": [
        "# IF IT IS YOUR FIRST TIME OPENING THIS FILE, READ CAREFULLY THE <font color='red'>INSTRUCTIONS IN RED</font>\n",
        "\n",
        "## Requirement: to run the code you must have a <font color='green'>Google Account</font>\n",
        "\n",
        "## Version 0.07 - 16/01/24"
      ],
      "metadata": {
        "id": "-cyrdcgAaeN7"
      }
    },
    {
      "cell_type": "code",
      "execution_count": null,
      "metadata": {
        "id": "8MPQBCP9fOFu",
        "cellView": "form"
      },
      "outputs": [],
      "source": [
        "# @title PIP install\n",
        "%%capture\n",
        "!pip install gspread==5.11.2\n",
        "!pip install gspread_formatting==1.1.2\n",
        "!pip install geoguessr_async -U\n",
        "!pip install authlib\n",
        "!pip install pycountry"
      ]
    },
    {
      "cell_type": "code",
      "source": [
        "# @title Imports\n",
        "import gspread\n",
        "from gspread import Cell\n",
        "from gspread_formatting import *\n",
        "from gspread_formatting import batch_updater\n",
        "from gspread import Client\n",
        "\n",
        "from IPython.display import Image\n",
        "\n",
        "from google.colab import auth\n",
        "from google.auth import default\n",
        "\n",
        "from authlib.integrations.requests_client import AssertionSession\n",
        "\n",
        "import os, sys\n",
        "from datetime import date, datetime\n",
        "\n",
        "import csv\n",
        "import json\n",
        "import requests, io\n",
        "\n",
        "import asyncio\n",
        "from geoguessr_async import Geoguessr"
      ],
      "metadata": {
        "id": "qEl5QILmfYIa",
        "cellView": "form"
      },
      "execution_count": null,
      "outputs": []
    },
    {
      "cell_type": "code",
      "source": [
        "# @title Google authorization for Google Sheets modification (you need to accept it in order to modify the G.Sheets)\n",
        "auth.authenticate_user()\n",
        "creds, _ = default()\n",
        "gc = gspread.authorize(creds)"
      ],
      "metadata": {
        "id": "G4bxEQ6WfaXk",
        "cellView": "form"
      },
      "execution_count": null,
      "outputs": []
    },
    {
      "cell_type": "markdown",
      "source": [
        "# PUT YOUR <font color='red'>NCFA COOKIE</font> IN THE CELL BELOW\n",
        "*See explanatory GIF below or*\n",
        "\n",
        "To get your NCFA Cookie by:  \n",
        "\n",
        "\n",
        "1.   Logging into your Geoguessr account.\n",
        "2.   Opening your dev tools (press `Ctrl+Shift+I`) in your navigator.\n",
        "3.   Go to `Application/Storage/Cookies` and copy the value of `_ncfa`.  \n",
        "Beware you'll have 2 `_ncfa` cookies if you also have a Seterra account.\n",
        "4.   In the cell below, replace `YOUR_NCFA_COOKIE` (between the quotation marks) by the value you copied.\n",
        "It should look like this:  \n",
        "`ncfa_cookie=\"KAQzsU6Y2JNrie1BcQ5G2tS2Xcmn%2FfWxrm347K0wRvQ%3DyXC4L44k2Hm62b5xTIC%2BLCOP5pdh%2Brl6LXtjOxc0u2zMpqXnfATHU%2BhbLjN7kdyOPRGJma6LvrSG0tHjK9Xvqcax%2FWxOJgva1us6ab5Fq57%8A\"`\n",
        "\n"
      ],
      "metadata": {
        "id": "heNhb9_STUkX"
      }
    },
    {
      "cell_type": "code",
      "source": [
        "ncfa_cookie = \"YOUR_NCFA_COOKIE\"\n",
        "client = Geoguessr(ncfa_cookie)"
      ],
      "metadata": {
        "id": "xKQfeLeiTUQo"
      },
      "execution_count": null,
      "outputs": []
    },
    {
      "cell_type": "code",
      "source": [
        "# @title GIF to get NCFA Cookie in Chrome\n",
        "Image(url=\"https://drive.google.com/uc?export=view&id=1JF34gQ_8MDlvMlV5cj1b5rDendqSRnhD\")"
      ],
      "metadata": {
        "colab": {
          "base_uri": "https://localhost:8080/",
          "height": 485
        },
        "id": "rvnigaf5U2bE",
        "outputId": "9d0d5232-3e3a-4a29-a918-2b4fd6b5d289",
        "cellView": "form"
      },
      "execution_count": null,
      "outputs": [
        {
          "output_type": "execute_result",
          "data": {
            "text/html": [
              "<img src=\"https://drive.google.com/uc?export=view&id=1JF34gQ_8MDlvMlV5cj1b5rDendqSRnhD\"/>"
            ],
            "text/plain": [
              "<IPython.core.display.Image object>"
            ]
          },
          "metadata": {},
          "execution_count": 5
        }
      ]
    },
    {
      "cell_type": "code",
      "source": [
        "# @title GIF to get NCFA Cookie in Firefox\n",
        "Image(url=\"https://drive.google.com/uc?export=view&id=1IC4l7MkroKAGTWES-sYUsSySYHFe_d4w\")"
      ],
      "metadata": {
        "colab": {
          "base_uri": "https://localhost:8080/",
          "height": 487
        },
        "cellView": "form",
        "id": "A1XXsq8F8rcz",
        "outputId": "d36f2693-56f5-4542-8851-95c0c9e48d09"
      },
      "execution_count": null,
      "outputs": [
        {
          "output_type": "execute_result",
          "data": {
            "text/html": [
              "<img src=\"https://drive.google.com/uc?export=view&id=1IC4l7MkroKAGTWES-sYUsSySYHFe_d4w\"/>"
            ],
            "text/plain": [
              "<IPython.core.display.Image object>"
            ]
          },
          "metadata": {},
          "execution_count": 6
        }
      ]
    },
    {
      "cell_type": "markdown",
      "source": [
        "# PUT YOUR <font color='red'>GOOGLE SHEET URL</font> IN THE CELL BELOW\n",
        "\n",
        "In the cell below, replace `SHEET_URL` by <font color='red'>**YOUR**</font> Google Sheet URL (between the quotation marks) without the `edit#gid=...` part.  \n",
        "Your URL should look something like this:  \n",
        "`\"https://docs.google.com/spreadsheets/d/1QbDtbwlBBeaTgqcQJ3EswdFR5IBsNbc5DbQZsKkGOAo\"`\n"
      ],
      "metadata": {
        "id": "BdZt0vdsVn__"
      }
    },
    {
      "cell_type": "code",
      "source": [
        "# Google Sheets URL to modify according to yours.\n",
        "sheet_URL = \"SHEET_URL\""
      ],
      "metadata": {
        "id": "JUVoJZdlVtMb"
      },
      "execution_count": null,
      "outputs": []
    },
    {
      "cell_type": "markdown",
      "source": [
        "# <font color='red'>**FOLLOW THE INSTRUCTIONS IN THE GOOGLE SHEETS CAREFULLY TO KNOW WHEN TO RUN THE CODE. DO NOT RUN IT BEFORE BEING TOLD TO.**</font>"
      ],
      "metadata": {
        "id": "J3qGoUoH1jbp"
      }
    },
    {
      "cell_type": "markdown",
      "source": [
        "# To run the entire code, click on `Runtime` on the menu at the top and then `Run all` (or press `Ctrl + F9`).\n",
        "# Then follow instructions."
      ],
      "metadata": {
        "id": "Dk2prAT7bxJT"
      }
    },
    {
      "cell_type": "code",
      "source": [
        "# @title Utils functions\n",
        "from datetime import datetime\n",
        "import pycountry\n",
        "\n",
        "def val_to_col(column_int):\n",
        "  start_index = 1\n",
        "  letter = ''\n",
        "  while column_int > 25 + start_index:\n",
        "    letter += chr(65 + int((column_int-start_index)/26) - 1)\n",
        "    column_int = column_int - (int((column_int-start_index)/26))*26\n",
        "  letter += chr(65 - start_index + (int(column_int)))\n",
        "  return letter\n",
        "\n",
        "def col_to_val(col):\n",
        "  return sum([(26**(len(col)-i-1)) * (ord(letter) - ord('A')+1) for i, letter in enumerate(col)])\n",
        "\n",
        "def alpha2ToCountryname(alpha2: str):\n",
        "  if alpha2!=\"\" and alpha2!=None:\n",
        "    tmp = pycountry.countries.get(alpha_2=alpha2)\n",
        "    if tmp != None:\n",
        "      return pycountry.countries.get(alpha_2=alpha2).name\n",
        "  return \"Unknown\"\n",
        "\n",
        "def computeGuessTime(start: str, end: str):\n",
        "  # 2023-11-19T03:32:02.941+00:00\n",
        "  start = start[:19]\n",
        "  end = end[:19]\n",
        "  datetime_start = datetime.strptime(start, '%Y-%m-%dT%H:%M:%S')\n",
        "  datetime_end = datetime.strptime(end, '%Y-%m-%dT%H:%M:%S')\n",
        "  return (datetime_end-datetime_start).total_seconds()\n",
        "\n",
        "def print_players(players: list):\n",
        "  print(\"Liste des joueurs, en choisir un :\")\n",
        "  for p in players:\n",
        "    print(\"- \"+p)"
      ],
      "metadata": {
        "id": "vJkgf2A_vrxR",
        "cellView": "form"
      },
      "execution_count": null,
      "outputs": []
    },
    {
      "cell_type": "code",
      "source": [
        "# @title Function to extract useful infos from duels\n",
        "\n",
        "async def extractInfosDuels(duel_url, myId):\n",
        "  datas = []\n",
        "  duel_infos = await client.get_duel_info(duel_url)\n",
        "  nb_round = duel_infos.currentRoundNumber\n",
        "\n",
        "  for i, t in enumerate(duel_infos.teams):\n",
        "    if t['players'][0][\"playerId\"] == myId:\n",
        "      myIdx = i\n",
        "      if t['players'][0][\"progressChange\"] != None:\n",
        "        myRatingBefore = t['players'][0][\"progressChange\"][\"competitiveProgress\"][\"ratingBefore\"]\n",
        "        myRatingAfter  = t['players'][0][\"progressChange\"][\"competitiveProgress\"][\"ratingAfter\"]\n",
        "      else:\n",
        "        myRatingBefore = t['players'][0]['rating']\n",
        "        myRatingAfter  = myRatingBefore\n",
        "  opponentIdx = 1-myIdx\n",
        "  opponentId = duel_infos.teams[opponentIdx]['players'][0][\"playerId\"]\n",
        "  opponentInfo = await client.get_user_infos(opponentId)\n",
        "  opponentUsername = opponentInfo.nick if opponentInfo != None else \"Banned\"\n",
        "  opponentCountry = alpha2ToCountryname(duel_infos.teams[opponentIdx]['players'][0][\"countryCode\"]) if opponentInfo != None else \"Unknown\"\n",
        "  opponentRating = duel_infos.teams[opponentIdx]['players'][0]['rating']\n",
        "\n",
        "  hasWon = True if(myRatingAfter > myRatingBefore) else False\n",
        "  datas.extend([opponentCountry, opponentId, opponentUsername, opponentRating, myRatingBefore, myRatingAfter, hasWon])\n",
        "\n",
        "  for i in range(nb_round):\n",
        "    country = alpha2ToCountryname(duel_infos.rounds[i][\"panorama\"][\"countryCode\"])\n",
        "    startRound = duel_infos.rounds[i][\"startTime\"]\n",
        "\n",
        "    guessOpponent = duel_infos.teams[opponentIdx][\"roundResults\"][i][\"bestGuess\"]\n",
        "    distanceOpponent = round(guessOpponent[\"distance\"])/1000 if guessOpponent != None else \"No Guess\"\n",
        "\n",
        "    guessMe = duel_infos.teams[myIdx][\"roundResults\"][i][\"bestGuess\"]\n",
        "    if guessMe != None:\n",
        "      distanceMe = round(guessMe[\"distance\"])/1000\n",
        "      durationGuessMe = computeGuessTime(startRound, guessMe[\"created\"])\n",
        "    else:\n",
        "      distanceMe = \"No Guess\"\n",
        "      durationGuessMe = \"No Guess\"\n",
        "    datas.extend([country, distanceOpponent, distanceMe, durationGuessMe])\n",
        "\n",
        "  return datas\n",
        "\n",
        "def filter_duel_afterdate(lstDuel, date):\n",
        "  start_date = datetime.strptime(date, \"%d-%m-%Y %H:%M:%S\")\n",
        "  lstFiltered = []\n",
        "  for duel in lstDuel:\n",
        "    if start_date < datetime.strptime(duel[0], \"%d-%m-%Y %H:%M:%S\"):\n",
        "      lstFiltered.append(duel)\n",
        "  return lstFiltered"
      ],
      "metadata": {
        "id": "bSyQD9EsfjnL",
        "cellView": "form"
      },
      "execution_count": null,
      "outputs": []
    },
    {
      "cell_type": "code",
      "source": [
        "# @title Function to update opponents current ELO\n",
        "\n",
        "async def update_opponent_ELO(sh):\n",
        "  batchSize = 50\n",
        "\n",
        "  now = datetime.now().strftime(\"%d/%m/%y %H:%M:%S\")\n",
        "  wsOpponent = sh.worksheet(\"Opponents_ELO\")\n",
        "  ID_rg = \"A3:A\"\n",
        "  opponentIDs = [p[0] for p in wsOpponent.get(ID_rg)]\n",
        "\n",
        "  if len(opponentIDs) == 0:\n",
        "    print(\"No opponents to import.\")\n",
        "    sys.exit()\n",
        "\n",
        "  opponent, cellList = None, []\n",
        "  for i, opponentID in enumerate(opponentIDs):\n",
        "    row = i+3\n",
        "    opponent = await client.get_user_infos(opponentID)\n",
        "    if opponent:\n",
        "      opponentName = opponent.nick\n",
        "      opponentELO = \"Banned\" if opponent.isBanned else opponent.competitiveRating\n",
        "    else:\n",
        "      opponentName, opponentELO = \"Banned\", \"Banned\"\n",
        "\n",
        "    cellList.append(Cell(row, 2, opponentName))\n",
        "    cellList.append(Cell(row, 3, opponentELO))\n",
        "\n",
        "    if i%batchSize == batchSize - 1:\n",
        "      wsOpponent.update_cells(cellList, value_input_option='USER_ENTERED')\n",
        "      cellList = []\n",
        "\n",
        "    opponent = None\n",
        "\n",
        "  if len(cellList) != 0:\n",
        "    wsOpponent.update_cells(cellList, value_input_option='USER_ENTERED')\n",
        "\n",
        "  # Update last_update in B1\n",
        "  wsOpponent.update_cell(1, 2, now)\n",
        "  return"
      ],
      "metadata": {
        "cellView": "form",
        "id": "99rpDmCHYl6R"
      },
      "execution_count": null,
      "outputs": []
    },
    {
      "cell_type": "code",
      "source": [
        "# @title Main code\n",
        "sh = gc.open_by_url(sheet_URL)\n",
        "wsinfo = sh.worksheet(\"Player_list\")\n",
        "\n",
        "importBatchSize = 20 # You can modify this value.\n",
        "\n",
        "player_rg = f\"A2:A\"\n",
        "players = [p[0] for p in wsinfo.get(player_rg)]\n",
        "\n",
        "if len(players) == 0:\n",
        "  print(f\"No player to import. Exiting.\")\n",
        "  sys.exit()\n",
        "elif len(players) == 1:\n",
        "  player = players[0]\n",
        "else:\n",
        "  print(f\"Error, do not use this code if you have more than one player, use the method with Tweaks (see Sheet). Exiting.\")\n",
        "  sys.exit()\n",
        "\n",
        "wsName = \"Data_duel_\" + player\n",
        "try:\n",
        "  ws_duel = sh.worksheet(wsName)\n",
        "except:\n",
        "  print(f\"The sheet {wsName} doesn't exist. You need to create it. Exiting.\")\n",
        "  sys.exit()\n",
        "\n",
        "await client.get_all_my_infos()\n",
        "Id = client.id\n",
        "\n",
        "lstDuels = await client.get_ranked_duel_activity()\n",
        "firstImport = ws_duel.acell(\"A3\").value\n",
        "if firstImport != \"\":\n",
        "  lastDate = ws_duel.acell(\"F1\").value\n",
        "  lstDuels = filter_duel_afterdate(lstDuels, lastDate)\n",
        "\n",
        "rowFrom = int(ws_duel.acell(\"G1\").value)\n",
        "\n",
        "cell_list_duel = []\n",
        "for i, duel in enumerate(lstDuels):\n",
        "  row = i + rowFrom\n",
        "  time, link = duel\n",
        "  duelDatas = await extractInfosDuels(link, Id)\n",
        "  cell_list_duel.append(Cell(row, 1, time))\n",
        "  cell_list_duel.append(Cell(row, 2, link))\n",
        "  for j, val in enumerate(duelDatas):\n",
        "    cell_list_duel.append(Cell(row, 4+j, val))\n",
        "  if i % importBatchSize == importBatchSize - 1:\n",
        "    ws_duel.update_cells(cell_list_duel, value_input_option='USER_ENTERED')\n",
        "    cell_list_duel = []\n",
        "if len(cell_list_duel) != 0:\n",
        "  ws_duel.update_cells(cell_list_duel, value_input_option='USER_ENTERED')\n",
        "\n",
        "await update_opponent_ELO(sh)"
      ],
      "metadata": {
        "id": "V7Vk825lkSkf",
        "cellView": "form"
      },
      "execution_count": null,
      "outputs": []
    },
    {
      "cell_type": "markdown",
      "source": [],
      "metadata": {
        "id": "H6PQt6HxPwC5"
      }
    }
  ]
}